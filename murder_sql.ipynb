{
 "cells": [
  {
   "cell_type": "markdown",
   "id": "de7cd0b6-81b0-4535-92b3-815618058972",
   "metadata": {
    "jp-MarkdownHeadingCollapsed": true,
    "tags": []
   },
   "source": [
    "## Setup and Initialization"
   ]
  },
  {
   "cell_type": "code",
   "execution_count": 45,
   "id": "f48333ea-db49-4d33-9a95-dd13f5af7d73",
   "metadata": {
    "tags": []
   },
   "outputs": [],
   "source": [
    "# Import Necessary Libraries\n",
    "import pandas as pd\n",
    "import sqlite3 as sql\n",
    "\n",
    "# Set display options for Pandas DataFrame\n",
    "pd.set_option('display.max_colwidth', None)\n",
    "\n",
    "# Connect to the SQLite database\n",
    "conn = sql.connect('sql-murder-mystery.db')"
   ]
  },
  {
   "cell_type": "markdown",
   "id": "33136140-cd0b-4140-bfe3-d91588708371",
   "metadata": {
    "jp-MarkdownHeadingCollapsed": true,
    "tags": []
   },
   "source": [
    "## Database Exploration"
   ]
  },
  {
   "cell_type": "code",
   "execution_count": 46,
   "id": "9881c563-4358-4fb2-8f14-c7e56e26b2e0",
   "metadata": {
    "tags": []
   },
   "outputs": [
    {
     "name": "stdout",
     "output_type": "stream",
     "text": [
      "Available tables:\n",
      "                      name\n",
      "0      crime_scene_report\n",
      "1         drivers_license\n",
      "2  facebook_event_checkin\n",
      "3               interview\n",
      "4      get_fit_now_member\n",
      "5    get_fit_now_check_in\n",
      "6                solution\n",
      "7                  income\n",
      "8                  person\n"
     ]
    }
   ],
   "source": [
    "# Query to list all tables in the database\n",
    "query_tables = \"SELECT name FROM sqlite_master WHERE type='table';\"\n",
    "tables = pd.read_sql_query(query_tables, conn)\n",
    "print(\"Available tables:\\n\", tables)"
   ]
  },
  {
   "cell_type": "code",
   "execution_count": 43,
   "id": "8a0d71da-d751-4f14-ab00-96049d7d4ca5",
   "metadata": {
    "tags": []
   },
   "outputs": [
    {
     "name": "stdout",
     "output_type": "stream",
     "text": [
      "Connections between tables:\n",
      "Table 'facebook_event_checkin' has a foreign key 'person_id' that references 'person.id'\n",
      "Table 'interview' has a foreign key 'person_id' that references 'person.id'\n",
      "Table 'get_fit_now_member' has a foreign key 'person_id' that references 'person.id'\n",
      "Table 'get_fit_now_check_in' has a foreign key 'membership_id' that references 'get_fit_now_member.id'\n",
      "Table 'person' has a foreign key 'license_id' that references 'drivers_license.id'\n",
      "Table 'person' has a foreign key 'ssn' that references 'income.ssn'\n"
     ]
    }
   ],
   "source": [
    "# Function to get foreign key information for a given table\n",
    "def get_foreign_keys(table_name, conn):\n",
    "    query_fk = f\"PRAGMA foreign_key_list({table_name});\"\n",
    "    foreign_keys = pd.read_sql_query(query_fk, conn)\n",
    "    return foreign_keys\n",
    "\n",
    "# Dictionary to store foreign key relationships\n",
    "relationships = {}\n",
    "\n",
    "# Iterate through all tables and collect foreign key information\n",
    "for table in tables['name']:\n",
    "    foreign_keys = get_foreign_keys(table, conn)\n",
    "    if not foreign_keys.empty:\n",
    "        relationships[table] = foreign_keys\n",
    "\n",
    "# Print the connections between tables\n",
    "print(\"Connections between tables:\")\n",
    "for table, fks in relationships.items():\n",
    "    for index, row in fks.iterrows():\n",
    "        print(f\"Table '{table}' has a foreign key '{row['from']}' \"\n",
    "              f\"that references '{row['table']}.{row['to']}'\")\n"
   ]
  },
  {
   "cell_type": "markdown",
   "id": "bf314d1f-f7e8-43c4-9297-f0dd6d850261",
   "metadata": {
    "tags": []
   },
   "source": [
    "## Data Analysis"
   ]
  },
  {
   "cell_type": "code",
   "execution_count": 18,
   "id": "d31f9417-ac15-469b-9056-f06ad3937d07",
   "metadata": {
    "tags": []
   },
   "outputs": [
    {
     "data": {
      "text/html": [
       "<div>\n",
       "<style scoped>\n",
       "    .dataframe tbody tr th:only-of-type {\n",
       "        vertical-align: middle;\n",
       "    }\n",
       "\n",
       "    .dataframe tbody tr th {\n",
       "        vertical-align: top;\n",
       "    }\n",
       "\n",
       "    .dataframe thead th {\n",
       "        text-align: right;\n",
       "    }\n",
       "</style>\n",
       "<table border=\"1\" class=\"dataframe\">\n",
       "  <thead>\n",
       "    <tr style=\"text-align: right;\">\n",
       "      <th></th>\n",
       "      <th>date</th>\n",
       "      <th>type</th>\n",
       "      <th>description</th>\n",
       "      <th>city</th>\n",
       "    </tr>\n",
       "  </thead>\n",
       "  <tbody>\n",
       "    <tr>\n",
       "      <th>0</th>\n",
       "      <td>20180115</td>\n",
       "      <td>murder</td>\n",
       "      <td>Security footage shows that there were 2 witnesses. The first witness lives at the last house on \"Northwestern Dr\". The second witness, named Annabel, lives somewhere on \"Franklin Ave\".</td>\n",
       "      <td>SQL City</td>\n",
       "    </tr>\n",
       "  </tbody>\n",
       "</table>\n",
       "</div>"
      ],
      "text/plain": [
       "       date    type  \\\n",
       "0  20180115  murder   \n",
       "\n",
       "                                                                                                                                                                                 description  \\\n",
       "0  Security footage shows that there were 2 witnesses. The first witness lives at the last house on \"Northwestern Dr\". The second witness, named Annabel, lives somewhere on \"Franklin Ave\".   \n",
       "\n",
       "       city  \n",
       "0  SQL City  "
      ]
     },
     "execution_count": 18,
     "metadata": {},
     "output_type": "execute_result"
    }
   ],
   "source": [
    "# Query to get the crime scene report for the specified date, type, and city\n",
    "query_crime_scene = \"\"\"\n",
    "SELECT *\n",
    "FROM crime_scene_report\n",
    "WHERE date = '20180115' AND type='murder' AND city = 'SQL City';\n",
    "\"\"\"\n",
    "crime_scene_report = pd.read_sql_query(query_crime_scene, conn)\n",
    "crime_scene_report"
   ]
  },
  {
   "cell_type": "markdown",
   "id": "9fcb5eaf-5938-4c9e-b79b-928c35066df8",
   "metadata": {
    "jp-MarkdownHeadingCollapsed": true,
    "tags": []
   },
   "source": [
    "### First Witness Data"
   ]
  },
  {
   "cell_type": "code",
   "execution_count": 31,
   "id": "81857b91-2af8-4563-945a-bd9cb7a0c532",
   "metadata": {
    "tags": []
   },
   "outputs": [
    {
     "data": {
      "text/html": [
       "<div>\n",
       "<style scoped>\n",
       "    .dataframe tbody tr th:only-of-type {\n",
       "        vertical-align: middle;\n",
       "    }\n",
       "\n",
       "    .dataframe tbody tr th {\n",
       "        vertical-align: top;\n",
       "    }\n",
       "\n",
       "    .dataframe thead th {\n",
       "        text-align: right;\n",
       "    }\n",
       "</style>\n",
       "<table border=\"1\" class=\"dataframe\">\n",
       "  <thead>\n",
       "    <tr style=\"text-align: right;\">\n",
       "      <th></th>\n",
       "      <th>id</th>\n",
       "      <th>name</th>\n",
       "      <th>license_id</th>\n",
       "      <th>address_number</th>\n",
       "      <th>address_street_name</th>\n",
       "      <th>ssn</th>\n",
       "    </tr>\n",
       "  </thead>\n",
       "  <tbody>\n",
       "    <tr>\n",
       "      <th>0</th>\n",
       "      <td>14887</td>\n",
       "      <td>Morty Schapiro</td>\n",
       "      <td>118009</td>\n",
       "      <td>4919</td>\n",
       "      <td>Northwestern Dr</td>\n",
       "      <td>111564949</td>\n",
       "    </tr>\n",
       "  </tbody>\n",
       "</table>\n",
       "</div>"
      ],
      "text/plain": [
       "      id            name  license_id  address_number address_street_name  \\\n",
       "0  14887  Morty Schapiro      118009            4919     Northwestern Dr   \n",
       "\n",
       "         ssn  \n",
       "0  111564949  "
      ]
     },
     "execution_count": 31,
     "metadata": {},
     "output_type": "execute_result"
    }
   ],
   "source": [
    "# First witness: Find the last house on \"Northwestern Dr\"\n",
    "query_first_witness = \"\"\"\n",
    "SELECT *\n",
    "FROM person\n",
    "WHERE address_street_name='Northwestern Dr'\n",
    "ORDER BY address_number DESC\n",
    "LIMIT 1;\n",
    "\"\"\"\n",
    "first_witness = pd.read_sql_query(query_first_witness, conn)\n",
    "first_witness"
   ]
  },
  {
   "cell_type": "code",
   "execution_count": 20,
   "id": "716b7da8-9a6e-47fa-ba1b-fdc2829abc5a",
   "metadata": {
    "tags": []
   },
   "outputs": [
    {
     "data": {
      "text/html": [
       "<div>\n",
       "<style scoped>\n",
       "    .dataframe tbody tr th:only-of-type {\n",
       "        vertical-align: middle;\n",
       "    }\n",
       "\n",
       "    .dataframe tbody tr th {\n",
       "        vertical-align: top;\n",
       "    }\n",
       "\n",
       "    .dataframe thead th {\n",
       "        text-align: right;\n",
       "    }\n",
       "</style>\n",
       "<table border=\"1\" class=\"dataframe\">\n",
       "  <thead>\n",
       "    <tr style=\"text-align: right;\">\n",
       "      <th></th>\n",
       "      <th>person_id</th>\n",
       "      <th>transcript</th>\n",
       "    </tr>\n",
       "  </thead>\n",
       "  <tbody>\n",
       "    <tr>\n",
       "      <th>0</th>\n",
       "      <td>14887</td>\n",
       "      <td>I heard a gunshot and then saw a man run out. He had a \"Get Fit Now Gym\" bag. The membership number on the bag started with \"48Z\". Only gold members have those bags. The man got into a car with a plate that included \"H42W\".</td>\n",
       "    </tr>\n",
       "  </tbody>\n",
       "</table>\n",
       "</div>"
      ],
      "text/plain": [
       "   person_id  \\\n",
       "0      14887   \n",
       "\n",
       "                                                                                                                                                                                                                        transcript  \n",
       "0  I heard a gunshot and then saw a man run out. He had a \"Get Fit Now Gym\" bag. The membership number on the bag started with \"48Z\". Only gold members have those bags. The man got into a car with a plate that included \"H42W\".  "
      ]
     },
     "execution_count": 20,
     "metadata": {},
     "output_type": "execute_result"
    }
   ],
   "source": [
    "# Query to get the interview transcript of the first witness\n",
    "query_first_witness_interview = \"\"\"\n",
    "SELECT *\n",
    "FROM interview \n",
    "WHERE person_id = (SELECT id\n",
    "                   FROM person\n",
    "                   WHERE address_street_name='Northwestern Dr'\n",
    "                   ORDER BY address_number DESC\n",
    "                   LIMIT 1);\n",
    "\"\"\"\n",
    "first_witness_interview = pd.read_sql_query(query_first_witness_interview, conn)\n",
    "first_witness_interview"
   ]
  },
  {
   "cell_type": "code",
   "execution_count": 21,
   "id": "2909a650-ceae-486f-b063-e0fdb6db4667",
   "metadata": {
    "tags": []
   },
   "outputs": [
    {
     "data": {
      "text/html": [
       "<div>\n",
       "<style scoped>\n",
       "    .dataframe tbody tr th:only-of-type {\n",
       "        vertical-align: middle;\n",
       "    }\n",
       "\n",
       "    .dataframe tbody tr th {\n",
       "        vertical-align: top;\n",
       "    }\n",
       "\n",
       "    .dataframe thead th {\n",
       "        text-align: right;\n",
       "    }\n",
       "</style>\n",
       "<table border=\"1\" class=\"dataframe\">\n",
       "  <thead>\n",
       "    <tr style=\"text-align: right;\">\n",
       "      <th></th>\n",
       "      <th>id</th>\n",
       "      <th>person_id</th>\n",
       "      <th>name</th>\n",
       "      <th>membership_start_date</th>\n",
       "      <th>membership_status</th>\n",
       "    </tr>\n",
       "  </thead>\n",
       "  <tbody>\n",
       "    <tr>\n",
       "      <th>0</th>\n",
       "      <td>48Z7A</td>\n",
       "      <td>28819</td>\n",
       "      <td>Joe Germuska</td>\n",
       "      <td>20160305</td>\n",
       "      <td>gold</td>\n",
       "    </tr>\n",
       "    <tr>\n",
       "      <th>1</th>\n",
       "      <td>48Z55</td>\n",
       "      <td>67318</td>\n",
       "      <td>Jeremy Bowers</td>\n",
       "      <td>20160101</td>\n",
       "      <td>gold</td>\n",
       "    </tr>\n",
       "  </tbody>\n",
       "</table>\n",
       "</div>"
      ],
      "text/plain": [
       "      id  person_id           name  membership_start_date membership_status\n",
       "0  48Z7A      28819   Joe Germuska               20160305              gold\n",
       "1  48Z55      67318  Jeremy Bowers               20160101              gold"
      ]
     },
     "execution_count": 21,
     "metadata": {},
     "output_type": "execute_result"
    }
   ],
   "source": [
    "# Get the suspect from the description given by the first witness\n",
    "query_suspects = \"\"\"\n",
    "SELECT *\n",
    "FROM get_fit_now_member\n",
    "WHERE id LIKE \"48Z%\" AND membership_status = \"gold\";\n",
    "\"\"\"\n",
    "suspects = pd.read_sql_query(query_suspects, conn)\n",
    "suspects"
   ]
  },
  {
   "cell_type": "code",
   "execution_count": 22,
   "id": "c2545b77-ab40-4a4e-9cb8-9d7d5aa62b74",
   "metadata": {
    "tags": []
   },
   "outputs": [
    {
     "data": {
      "text/html": [
       "<div>\n",
       "<style scoped>\n",
       "    .dataframe tbody tr th:only-of-type {\n",
       "        vertical-align: middle;\n",
       "    }\n",
       "\n",
       "    .dataframe tbody tr th {\n",
       "        vertical-align: top;\n",
       "    }\n",
       "\n",
       "    .dataframe thead th {\n",
       "        text-align: right;\n",
       "    }\n",
       "</style>\n",
       "<table border=\"1\" class=\"dataframe\">\n",
       "  <thead>\n",
       "    <tr style=\"text-align: right;\">\n",
       "      <th></th>\n",
       "      <th>id</th>\n",
       "      <th>name</th>\n",
       "      <th>license_id</th>\n",
       "      <th>address_number</th>\n",
       "      <th>address_street_name</th>\n",
       "      <th>ssn</th>\n",
       "    </tr>\n",
       "  </thead>\n",
       "  <tbody>\n",
       "    <tr>\n",
       "      <th>0</th>\n",
       "      <td>28819</td>\n",
       "      <td>Joe Germuska</td>\n",
       "      <td>173289</td>\n",
       "      <td>111</td>\n",
       "      <td>Fisk Rd</td>\n",
       "      <td>138909730</td>\n",
       "    </tr>\n",
       "    <tr>\n",
       "      <th>1</th>\n",
       "      <td>67318</td>\n",
       "      <td>Jeremy Bowers</td>\n",
       "      <td>423327</td>\n",
       "      <td>530</td>\n",
       "      <td>Washington Pl, Apt 3A</td>\n",
       "      <td>871539279</td>\n",
       "    </tr>\n",
       "  </tbody>\n",
       "</table>\n",
       "</div>"
      ],
      "text/plain": [
       "      id           name  license_id  address_number    address_street_name  \\\n",
       "0  28819   Joe Germuska      173289             111                Fisk Rd   \n",
       "1  67318  Jeremy Bowers      423327             530  Washington Pl, Apt 3A   \n",
       "\n",
       "         ssn  \n",
       "0  138909730  \n",
       "1  871539279  "
      ]
     },
     "execution_count": 22,
     "metadata": {},
     "output_type": "execute_result"
    }
   ],
   "source": [
    "# Get details of the suspects\n",
    "query_suspects_details = \"\"\"\n",
    "SELECT *\n",
    "FROM person \n",
    "WHERE id IN (SELECT person_id\n",
    "             FROM get_fit_now_member\n",
    "             WHERE id LIKE \"48Z%\" AND membership_status = \"gold\");\n",
    "\"\"\"\n",
    "suspects_details = pd.read_sql_query(query_suspects_details, conn)\n",
    "suspects_details"
   ]
  },
  {
   "cell_type": "code",
   "execution_count": 23,
   "id": "18f7e37b-c683-418c-a585-02e7493de292",
   "metadata": {
    "tags": []
   },
   "outputs": [
    {
     "data": {
      "text/html": [
       "<div>\n",
       "<style scoped>\n",
       "    .dataframe tbody tr th:only-of-type {\n",
       "        vertical-align: middle;\n",
       "    }\n",
       "\n",
       "    .dataframe tbody tr th {\n",
       "        vertical-align: top;\n",
       "    }\n",
       "\n",
       "    .dataframe thead th {\n",
       "        text-align: right;\n",
       "    }\n",
       "</style>\n",
       "<table border=\"1\" class=\"dataframe\">\n",
       "  <thead>\n",
       "    <tr style=\"text-align: right;\">\n",
       "      <th></th>\n",
       "      <th>id</th>\n",
       "      <th>age</th>\n",
       "      <th>height</th>\n",
       "      <th>eye_color</th>\n",
       "      <th>hair_color</th>\n",
       "      <th>gender</th>\n",
       "      <th>plate_number</th>\n",
       "      <th>car_make</th>\n",
       "      <th>car_model</th>\n",
       "    </tr>\n",
       "  </thead>\n",
       "  <tbody>\n",
       "    <tr>\n",
       "      <th>0</th>\n",
       "      <td>423327</td>\n",
       "      <td>30</td>\n",
       "      <td>70</td>\n",
       "      <td>brown</td>\n",
       "      <td>brown</td>\n",
       "      <td>male</td>\n",
       "      <td>0H42W2</td>\n",
       "      <td>Chevrolet</td>\n",
       "      <td>Spark LS</td>\n",
       "    </tr>\n",
       "    <tr>\n",
       "      <th>1</th>\n",
       "      <td>664760</td>\n",
       "      <td>21</td>\n",
       "      <td>71</td>\n",
       "      <td>black</td>\n",
       "      <td>black</td>\n",
       "      <td>male</td>\n",
       "      <td>4H42WR</td>\n",
       "      <td>Nissan</td>\n",
       "      <td>Altima</td>\n",
       "    </tr>\n",
       "  </tbody>\n",
       "</table>\n",
       "</div>"
      ],
      "text/plain": [
       "       id  age  height eye_color hair_color gender plate_number   car_make  \\\n",
       "0  423327   30      70     brown      brown   male       0H42W2  Chevrolet   \n",
       "1  664760   21      71     black      black   male       4H42WR     Nissan   \n",
       "\n",
       "  car_model  \n",
       "0  Spark LS  \n",
       "1    Altima  "
      ]
     },
     "execution_count": 23,
     "metadata": {},
     "output_type": "execute_result"
    }
   ],
   "source": [
    "# Get license details of the suspects based on the car plate description\n",
    "query_license = \"\"\"\n",
    "SELECT *\n",
    "FROM drivers_license\n",
    "WHERE plate_number LIKE '%H42W%' AND gender = 'male';\n",
    "\"\"\"\n",
    "license_details = pd.read_sql_query(query_license, conn)\n",
    "license_details"
   ]
  },
  {
   "cell_type": "code",
   "execution_count": 34,
   "id": "a9be536d-38e6-4a53-9586-8225c3a3b82b",
   "metadata": {
    "tags": []
   },
   "outputs": [
    {
     "data": {
      "text/html": [
       "<div>\n",
       "<style scoped>\n",
       "    .dataframe tbody tr th:only-of-type {\n",
       "        vertical-align: middle;\n",
       "    }\n",
       "\n",
       "    .dataframe tbody tr th {\n",
       "        vertical-align: top;\n",
       "    }\n",
       "\n",
       "    .dataframe thead th {\n",
       "        text-align: right;\n",
       "    }\n",
       "</style>\n",
       "<table border=\"1\" class=\"dataframe\">\n",
       "  <thead>\n",
       "    <tr style=\"text-align: right;\">\n",
       "      <th></th>\n",
       "      <th>id</th>\n",
       "      <th>name</th>\n",
       "      <th>license_id</th>\n",
       "      <th>address_number</th>\n",
       "      <th>address_street_name</th>\n",
       "      <th>ssn</th>\n",
       "    </tr>\n",
       "  </thead>\n",
       "  <tbody>\n",
       "    <tr>\n",
       "      <th>0</th>\n",
       "      <td>51739</td>\n",
       "      <td>Tushar Chandra</td>\n",
       "      <td>664760</td>\n",
       "      <td>312</td>\n",
       "      <td>Phi St</td>\n",
       "      <td>137882671</td>\n",
       "    </tr>\n",
       "    <tr>\n",
       "      <th>1</th>\n",
       "      <td>67318</td>\n",
       "      <td>Jeremy Bowers</td>\n",
       "      <td>423327</td>\n",
       "      <td>530</td>\n",
       "      <td>Washington Pl, Apt 3A</td>\n",
       "      <td>871539279</td>\n",
       "    </tr>\n",
       "  </tbody>\n",
       "</table>\n",
       "</div>"
      ],
      "text/plain": [
       "      id            name  license_id  address_number    address_street_name  \\\n",
       "0  51739  Tushar Chandra      664760             312                 Phi St   \n",
       "1  67318   Jeremy Bowers      423327             530  Washington Pl, Apt 3A   \n",
       "\n",
       "         ssn  \n",
       "0  137882671  \n",
       "1  871539279  "
      ]
     },
     "execution_count": 34,
     "metadata": {},
     "output_type": "execute_result"
    }
   ],
   "source": [
    "# Get the person details of the suspects based on their license ID\n",
    "query_suspects_license = \"\"\"\n",
    "SELECT *\n",
    "FROM person \n",
    "WHERE license_id IN (SELECT id\n",
    "                     FROM drivers_license\n",
    "                     WHERE plate_number LIKE '%H42W%' AND gender = 'male');\n",
    "\"\"\"\n",
    "license_suspects = pd.read_sql_query(query_suspects_license, conn)\n",
    "license_suspects"
   ]
  },
  {
   "cell_type": "code",
   "execution_count": 32,
   "id": "7563090d-de77-474f-a23d-d99e005d1779",
   "metadata": {
    "tags": []
   },
   "outputs": [
    {
     "data": {
      "text/html": [
       "<div>\n",
       "<style scoped>\n",
       "    .dataframe tbody tr th:only-of-type {\n",
       "        vertical-align: middle;\n",
       "    }\n",
       "\n",
       "    .dataframe tbody tr th {\n",
       "        vertical-align: top;\n",
       "    }\n",
       "\n",
       "    .dataframe thead th {\n",
       "        text-align: right;\n",
       "    }\n",
       "</style>\n",
       "<table border=\"1\" class=\"dataframe\">\n",
       "  <thead>\n",
       "    <tr style=\"text-align: right;\">\n",
       "      <th></th>\n",
       "      <th>id</th>\n",
       "      <th>name</th>\n",
       "      <th>license_id</th>\n",
       "      <th>address_number</th>\n",
       "      <th>address_street_name</th>\n",
       "      <th>ssn</th>\n",
       "    </tr>\n",
       "  </thead>\n",
       "  <tbody>\n",
       "    <tr>\n",
       "      <th>0</th>\n",
       "      <td>67318</td>\n",
       "      <td>Jeremy Bowers</td>\n",
       "      <td>423327</td>\n",
       "      <td>530</td>\n",
       "      <td>Washington Pl, Apt 3A</td>\n",
       "      <td>871539279</td>\n",
       "    </tr>\n",
       "  </tbody>\n",
       "</table>\n",
       "</div>"
      ],
      "text/plain": [
       "      id           name  license_id  address_number    address_street_name  \\\n",
       "0  67318  Jeremy Bowers      423327             530  Washington Pl, Apt 3A   \n",
       "\n",
       "         ssn  \n",
       "0  871539279  "
      ]
     },
     "execution_count": 32,
     "metadata": {},
     "output_type": "execute_result"
    }
   ],
   "source": [
    "# Get the suspects from the description given by the first witness\n",
    "query_suspects_first = \"\"\"\n",
    "SELECT *\n",
    "FROM person\n",
    "WHERE id IN (\n",
    "    SELECT person_id\n",
    "    FROM get_fit_now_member\n",
    "    WHERE id LIKE '48Z%' AND membership_status = 'gold'\n",
    ")\n",
    "AND license_id IN (\n",
    "    SELECT id\n",
    "    FROM drivers_license\n",
    "    WHERE plate_number LIKE '%H42W%' AND gender = 'male'\n",
    ");\n",
    "\"\"\"\n",
    "suspects_first = pd.read_sql_query(query_suspects_first, conn)\n",
    "suspects_first"
   ]
  },
  {
   "cell_type": "markdown",
   "id": "ace253f2-0708-4697-9161-3f86cd977f7a",
   "metadata": {
    "jp-MarkdownHeadingCollapsed": true,
    "tags": []
   },
   "source": [
    "### Second witness Data"
   ]
  },
  {
   "cell_type": "code",
   "execution_count": 35,
   "id": "ca257aff-c3f6-4552-9b7f-3f6a5dd58db4",
   "metadata": {
    "tags": []
   },
   "outputs": [
    {
     "data": {
      "text/html": [
       "<div>\n",
       "<style scoped>\n",
       "    .dataframe tbody tr th:only-of-type {\n",
       "        vertical-align: middle;\n",
       "    }\n",
       "\n",
       "    .dataframe tbody tr th {\n",
       "        vertical-align: top;\n",
       "    }\n",
       "\n",
       "    .dataframe thead th {\n",
       "        text-align: right;\n",
       "    }\n",
       "</style>\n",
       "<table border=\"1\" class=\"dataframe\">\n",
       "  <thead>\n",
       "    <tr style=\"text-align: right;\">\n",
       "      <th></th>\n",
       "      <th>id</th>\n",
       "      <th>name</th>\n",
       "      <th>license_id</th>\n",
       "      <th>address_number</th>\n",
       "      <th>address_street_name</th>\n",
       "      <th>ssn</th>\n",
       "    </tr>\n",
       "  </thead>\n",
       "  <tbody>\n",
       "    <tr>\n",
       "      <th>0</th>\n",
       "      <td>16371</td>\n",
       "      <td>Annabel Miller</td>\n",
       "      <td>490173</td>\n",
       "      <td>103</td>\n",
       "      <td>Franklin Ave</td>\n",
       "      <td>318771143</td>\n",
       "    </tr>\n",
       "  </tbody>\n",
       "</table>\n",
       "</div>"
      ],
      "text/plain": [
       "      id            name  license_id  address_number address_street_name  \\\n",
       "0  16371  Annabel Miller      490173             103        Franklin Ave   \n",
       "\n",
       "         ssn  \n",
       "0  318771143  "
      ]
     },
     "execution_count": 35,
     "metadata": {},
     "output_type": "execute_result"
    }
   ],
   "source": [
    "# Second witness: Annabel, who lives on \"Franklin Ave\"\n",
    "query_second_witness = \"\"\"\n",
    "SELECT *\n",
    "FROM person\n",
    "WHERE name LIKE \"%Annabel%\" AND address_street_name=\"Franklin Ave\";\n",
    "\"\"\"\n",
    "second_witness = pd.read_sql_query(query_second_witness, conn)\n",
    "second_witness"
   ]
  },
  {
   "cell_type": "code",
   "execution_count": 27,
   "id": "70c9add2-8cdf-4672-a563-5ca9e4256c27",
   "metadata": {
    "tags": []
   },
   "outputs": [
    {
     "data": {
      "text/html": [
       "<div>\n",
       "<style scoped>\n",
       "    .dataframe tbody tr th:only-of-type {\n",
       "        vertical-align: middle;\n",
       "    }\n",
       "\n",
       "    .dataframe tbody tr th {\n",
       "        vertical-align: top;\n",
       "    }\n",
       "\n",
       "    .dataframe thead th {\n",
       "        text-align: right;\n",
       "    }\n",
       "</style>\n",
       "<table border=\"1\" class=\"dataframe\">\n",
       "  <thead>\n",
       "    <tr style=\"text-align: right;\">\n",
       "      <th></th>\n",
       "      <th>person_id</th>\n",
       "      <th>transcript</th>\n",
       "    </tr>\n",
       "  </thead>\n",
       "  <tbody>\n",
       "    <tr>\n",
       "      <th>0</th>\n",
       "      <td>16371</td>\n",
       "      <td>I saw the murder happen, and I recognized the killer from my gym when I was working out last week on January the 9th.</td>\n",
       "    </tr>\n",
       "  </tbody>\n",
       "</table>\n",
       "</div>"
      ],
      "text/plain": [
       "   person_id  \\\n",
       "0      16371   \n",
       "\n",
       "                                                                                                              transcript  \n",
       "0  I saw the murder happen, and I recognized the killer from my gym when I was working out last week on January the 9th.  "
      ]
     },
     "execution_count": 27,
     "metadata": {},
     "output_type": "execute_result"
    }
   ],
   "source": [
    "# Find the interview transcript of the second witness\n",
    "query_second_witness_interview = \"\"\"\n",
    "SELECT *\n",
    "FROM interview\n",
    "WHERE person_id IN (SELECT id\n",
    "                    FROM person\n",
    "                    WHERE name LIKE \"%Annabel%\" AND address_street_name=\"Franklin Ave\");\n",
    "\"\"\"\n",
    "second_witness_interview = pd.read_sql_query(query_second_witness_interview, conn)\n",
    "second_witness_interview"
   ]
  },
  {
   "cell_type": "code",
   "execution_count": 28,
   "id": "f2d35aaa-af96-49a2-9da1-5f6d730081c2",
   "metadata": {
    "tags": []
   },
   "outputs": [
    {
     "data": {
      "text/html": [
       "<div>\n",
       "<style scoped>\n",
       "    .dataframe tbody tr th:only-of-type {\n",
       "        vertical-align: middle;\n",
       "    }\n",
       "\n",
       "    .dataframe tbody tr th {\n",
       "        vertical-align: top;\n",
       "    }\n",
       "\n",
       "    .dataframe thead th {\n",
       "        text-align: right;\n",
       "    }\n",
       "</style>\n",
       "<table border=\"1\" class=\"dataframe\">\n",
       "  <thead>\n",
       "    <tr style=\"text-align: right;\">\n",
       "      <th></th>\n",
       "      <th>membership_id</th>\n",
       "      <th>check_in_date</th>\n",
       "      <th>check_in_time</th>\n",
       "      <th>check_out_time</th>\n",
       "    </tr>\n",
       "  </thead>\n",
       "  <tbody>\n",
       "    <tr>\n",
       "      <th>0</th>\n",
       "      <td>90081</td>\n",
       "      <td>20180109</td>\n",
       "      <td>1600</td>\n",
       "      <td>1700</td>\n",
       "    </tr>\n",
       "  </tbody>\n",
       "</table>\n",
       "</div>"
      ],
      "text/plain": [
       "  membership_id  check_in_date  check_in_time  check_out_time\n",
       "0         90081       20180109           1600            1700"
      ]
     },
     "execution_count": 28,
     "metadata": {},
     "output_type": "execute_result"
    }
   ],
   "source": [
    "# Find the check-in details from the gym on the specific date\n",
    "query_check_in_details = \"\"\"\n",
    "SELECT *\n",
    "FROM get_fit_now_check_in\n",
    "WHERE membership_id = (SELECT id\n",
    "                       FROM get_fit_now_member\n",
    "                       WHERE person_id = (SELECT person_id\n",
    "                                          FROM interview\n",
    "                                          WHERE person_id IN (SELECT id\n",
    "                                                              FROM person\n",
    "                                                              WHERE name LIKE \"%Annabel%\"\n",
    "                                                              AND address_street_name=\"Franklin Ave\")));\n",
    "\"\"\"\n",
    "check_in_details = pd.read_sql_query(query_check_in_details, conn)\n",
    "check_in_details"
   ]
  },
  {
   "cell_type": "code",
   "execution_count": 29,
   "id": "0c8acd4a-26a5-4243-aab0-9f389e238e42",
   "metadata": {
    "tags": []
   },
   "outputs": [
    {
     "data": {
      "text/html": [
       "<div>\n",
       "<style scoped>\n",
       "    .dataframe tbody tr th:only-of-type {\n",
       "        vertical-align: middle;\n",
       "    }\n",
       "\n",
       "    .dataframe tbody tr th {\n",
       "        vertical-align: top;\n",
       "    }\n",
       "\n",
       "    .dataframe thead th {\n",
       "        text-align: right;\n",
       "    }\n",
       "</style>\n",
       "<table border=\"1\" class=\"dataframe\">\n",
       "  <thead>\n",
       "    <tr style=\"text-align: right;\">\n",
       "      <th></th>\n",
       "      <th>membership_id</th>\n",
       "      <th>check_in_date</th>\n",
       "      <th>check_in_time</th>\n",
       "      <th>check_out_time</th>\n",
       "    </tr>\n",
       "  </thead>\n",
       "  <tbody>\n",
       "    <tr>\n",
       "      <th>0</th>\n",
       "      <td>48Z7A</td>\n",
       "      <td>20180109</td>\n",
       "      <td>1600</td>\n",
       "      <td>1730</td>\n",
       "    </tr>\n",
       "    <tr>\n",
       "      <th>1</th>\n",
       "      <td>48Z55</td>\n",
       "      <td>20180109</td>\n",
       "      <td>1530</td>\n",
       "      <td>1700</td>\n",
       "    </tr>\n",
       "  </tbody>\n",
       "</table>\n",
       "</div>"
      ],
      "text/plain": [
       "  membership_id  check_in_date  check_in_time  check_out_time\n",
       "0         48Z7A       20180109           1600            1730\n",
       "1         48Z55       20180109           1530            1700"
      ]
     },
     "execution_count": 29,
     "metadata": {},
     "output_type": "execute_result"
    }
   ],
   "source": [
    "# Query to get all check-ins at the gym on January 9th, 2018 between 4:00 PM and 5:00 PM excluding Annabel\n",
    "query_suspects_gym = \"\"\"\n",
    "SELECT *\n",
    "FROM get_fit_now_check_in\n",
    "WHERE check_in_date = '20180109'\n",
    "  AND (check_in_time BETWEEN '1600' AND '1700'\n",
    "       OR check_out_time BETWEEN '1600' AND '1700') \n",
    "  AND membership_id != 90081;\n",
    "\"\"\"\n",
    "suspects_gym = pd.read_sql_query(query_suspects_gym, conn)\n",
    "suspects_gym"
   ]
  },
  {
   "cell_type": "code",
   "execution_count": 30,
   "id": "9f8f6dad-aac1-41b6-acca-7e4a933b2883",
   "metadata": {
    "tags": []
   },
   "outputs": [
    {
     "data": {
      "text/html": [
       "<div>\n",
       "<style scoped>\n",
       "    .dataframe tbody tr th:only-of-type {\n",
       "        vertical-align: middle;\n",
       "    }\n",
       "\n",
       "    .dataframe tbody tr th {\n",
       "        vertical-align: top;\n",
       "    }\n",
       "\n",
       "    .dataframe thead th {\n",
       "        text-align: right;\n",
       "    }\n",
       "</style>\n",
       "<table border=\"1\" class=\"dataframe\">\n",
       "  <thead>\n",
       "    <tr style=\"text-align: right;\">\n",
       "      <th></th>\n",
       "      <th>id</th>\n",
       "      <th>person_id</th>\n",
       "      <th>name</th>\n",
       "      <th>membership_start_date</th>\n",
       "      <th>membership_status</th>\n",
       "    </tr>\n",
       "  </thead>\n",
       "  <tbody>\n",
       "    <tr>\n",
       "      <th>0</th>\n",
       "      <td>48Z55</td>\n",
       "      <td>67318</td>\n",
       "      <td>Jeremy Bowers</td>\n",
       "      <td>20160101</td>\n",
       "      <td>gold</td>\n",
       "    </tr>\n",
       "    <tr>\n",
       "      <th>1</th>\n",
       "      <td>48Z7A</td>\n",
       "      <td>28819</td>\n",
       "      <td>Joe Germuska</td>\n",
       "      <td>20160305</td>\n",
       "      <td>gold</td>\n",
       "    </tr>\n",
       "  </tbody>\n",
       "</table>\n",
       "</div>"
      ],
      "text/plain": [
       "      id  person_id           name  membership_start_date membership_status\n",
       "0  48Z55      67318  Jeremy Bowers               20160101              gold\n",
       "1  48Z7A      28819   Joe Germuska               20160305              gold"
      ]
     },
     "execution_count": 30,
     "metadata": {},
     "output_type": "execute_result"
    }
   ],
   "source": [
    "# Query to get gym members from the check-in records on January 9th, 2018\n",
    "query_gym_members = \"\"\"\n",
    "SELECT *\n",
    "FROM get_fit_now_member\n",
    "WHERE id IN (SELECT membership_id\n",
    "             FROM get_fit_now_check_in\n",
    "             WHERE check_in_date = '20180109'\n",
    "               AND (check_in_time BETWEEN '1600' AND '1700'\n",
    "                    OR check_out_time BETWEEN '1600' AND '1700') \n",
    "               AND membership_id != 90081);\n",
    "\"\"\"\n",
    "gym_members = pd.read_sql_query(query_gym_members, conn)\n",
    "gym_members"
   ]
  },
  {
   "cell_type": "markdown",
   "id": "5f1feb6e-14a8-476a-8033-440506b1e2eb",
   "metadata": {
    "jp-MarkdownHeadingCollapsed": true,
    "tags": []
   },
   "source": [
    "### Murderer Data"
   ]
  },
  {
   "cell_type": "code",
   "execution_count": 56,
   "id": "0aa3bf60-77c4-45b6-aadd-7e0256102af4",
   "metadata": {
    "tags": []
   },
   "outputs": [
    {
     "data": {
      "text/html": [
       "<div>\n",
       "<style scoped>\n",
       "    .dataframe tbody tr th:only-of-type {\n",
       "        vertical-align: middle;\n",
       "    }\n",
       "\n",
       "    .dataframe tbody tr th {\n",
       "        vertical-align: top;\n",
       "    }\n",
       "\n",
       "    .dataframe thead th {\n",
       "        text-align: right;\n",
       "    }\n",
       "</style>\n",
       "<table border=\"1\" class=\"dataframe\">\n",
       "  <thead>\n",
       "    <tr style=\"text-align: right;\">\n",
       "      <th></th>\n",
       "      <th>person_id</th>\n",
       "      <th>name</th>\n",
       "      <th>license_id</th>\n",
       "      <th>address_number</th>\n",
       "      <th>address_street_name</th>\n",
       "      <th>ssn</th>\n",
       "      <th>drivers_license_id</th>\n",
       "      <th>age</th>\n",
       "      <th>height</th>\n",
       "      <th>eye_color</th>\n",
       "      <th>hair_color</th>\n",
       "      <th>gender</th>\n",
       "      <th>plate_number</th>\n",
       "      <th>interview_transcript</th>\n",
       "      <th>annual_income</th>\n",
       "    </tr>\n",
       "  </thead>\n",
       "  <tbody>\n",
       "    <tr>\n",
       "      <th>0</th>\n",
       "      <td>67318</td>\n",
       "      <td>Jeremy Bowers</td>\n",
       "      <td>423327</td>\n",
       "      <td>530</td>\n",
       "      <td>Washington Pl, Apt 3A</td>\n",
       "      <td>871539279</td>\n",
       "      <td>423327</td>\n",
       "      <td>30</td>\n",
       "      <td>70</td>\n",
       "      <td>brown</td>\n",
       "      <td>brown</td>\n",
       "      <td>male</td>\n",
       "      <td>0H42W2</td>\n",
       "      <td>I was hired by a woman with a lot of money. I don't know her name but I know she's around 5'5\" (65\") or 5'7\" (67\"). She has red hair and she drives a Tesla Model S. I know that she attended the SQL Symphony Concert 3 times in December 2017.\\n</td>\n",
       "      <td>10500</td>\n",
       "    </tr>\n",
       "  </tbody>\n",
       "</table>\n",
       "</div>"
      ],
      "text/plain": [
       "   person_id           name  license_id  address_number  \\\n",
       "0      67318  Jeremy Bowers      423327             530   \n",
       "\n",
       "     address_street_name        ssn  drivers_license_id  age  height  \\\n",
       "0  Washington Pl, Apt 3A  871539279              423327   30      70   \n",
       "\n",
       "  eye_color hair_color gender plate_number  \\\n",
       "0     brown      brown   male       0H42W2   \n",
       "\n",
       "                                                                                                                                                                                                                                 interview_transcript  \\\n",
       "0  I was hired by a woman with a lot of money. I don't know her name but I know she's around 5'5\" (65\") or 5'7\" (67\"). She has red hair and she drives a Tesla Model S. I know that she attended the SQL Symphony Concert 3 times in December 2017.\\n   \n",
       "\n",
       "   annual_income  \n",
       "0          10500  "
      ]
     },
     "execution_count": 56,
     "metadata": {},
     "output_type": "execute_result"
    }
   ],
   "source": [
    "\n",
    "# Enhanced query to gather specific information about the suspect\n",
    "query_combined_suspects = \"\"\"\n",
    "SELECT \n",
    "    p.id as person_id, p.name, p.license_id, p.address_number, p.address_street_name, p.ssn,\n",
    "    d.id as drivers_license_id, d.age, d.height, d.eye_color, d.hair_color, d.gender, d.plate_number,\n",
    "    i.transcript as interview_transcript,\n",
    "    inc.annual_income\n",
    "FROM \n",
    "    person p\n",
    "JOIN \n",
    "    drivers_license d ON p.license_id = d.id\n",
    "JOIN \n",
    "    get_fit_now_member m ON p.id = m.person_id\n",
    "JOIN \n",
    "    get_fit_now_check_in c ON m.id = c.membership_id\n",
    "LEFT JOIN \n",
    "    interview i ON p.id = i.person_id\n",
    "LEFT JOIN \n",
    "    income inc ON p.ssn = inc.ssn\n",
    "WHERE \n",
    "    d.gender = 'male'\n",
    "  AND m.id LIKE '48Z%'\n",
    "  AND m.membership_status = 'gold'\n",
    "  AND d.plate_number LIKE '%H42W%'\n",
    "  AND c.check_in_date = '20180109'\n",
    "  AND (c.check_in_time BETWEEN '1600' AND '1700'\n",
    "       OR c.check_out_time BETWEEN '1600' AND '1700')\n",
    "  AND c.membership_id != 90081;\n",
    "\"\"\"\n",
    "final_suspect = pd.read_sql_query(query_combined_suspects, conn)\n",
    "final_suspect"
   ]
  },
  {
   "cell_type": "code",
   "execution_count": 63,
   "id": "dddd9491-7d90-4666-b33c-fcfb3cc24e2f",
   "metadata": {
    "tags": []
   },
   "outputs": [
    {
     "data": {
      "text/html": [
       "<div>\n",
       "<style scoped>\n",
       "    .dataframe tbody tr th:only-of-type {\n",
       "        vertical-align: middle;\n",
       "    }\n",
       "\n",
       "    .dataframe tbody tr th {\n",
       "        vertical-align: top;\n",
       "    }\n",
       "\n",
       "    .dataframe thead th {\n",
       "        text-align: right;\n",
       "    }\n",
       "</style>\n",
       "<table border=\"1\" class=\"dataframe\">\n",
       "  <thead>\n",
       "    <tr style=\"text-align: right;\">\n",
       "      <th></th>\n",
       "      <th>person_id</th>\n",
       "      <th>event_name</th>\n",
       "      <th>event_date</th>\n",
       "    </tr>\n",
       "  </thead>\n",
       "  <tbody>\n",
       "    <tr>\n",
       "      <th>0</th>\n",
       "      <td>67318</td>\n",
       "      <td>The Funky Grooves Tour</td>\n",
       "      <td>20180115</td>\n",
       "    </tr>\n",
       "    <tr>\n",
       "      <th>1</th>\n",
       "      <td>67318</td>\n",
       "      <td>SQL Symphony Concert</td>\n",
       "      <td>20171206</td>\n",
       "    </tr>\n",
       "  </tbody>\n",
       "</table>\n",
       "</div>"
      ],
      "text/plain": [
       "   person_id              event_name  event_date\n",
       "0      67318  The Funky Grooves Tour    20180115\n",
       "1      67318    SQL Symphony Concert    20171206"
      ]
     },
     "execution_count": 63,
     "metadata": {},
     "output_type": "execute_result"
    }
   ],
   "source": [
    "# Query to get Facebook event check-in data for the suspect\n",
    "suspect_id = final_suspect['person_id'][0]\n",
    "query_facebook_checkins = f\"\"\"\n",
    "SELECT \n",
    "    f.person_id, f.event_name, f.date as event_date\n",
    "FROM \n",
    "    facebook_event_checkin f\n",
    "WHERE \n",
    "    f.person_id = {suspect_id};\n",
    "\"\"\"\n",
    "facebook_checkins = pd.read_sql_query(query_facebook_checkins, conn)\n",
    "facebook_checkins"
   ]
  },
  {
   "cell_type": "markdown",
   "id": "633c21df-2eb7-4a94-89f5-80b30e8ab2b0",
   "metadata": {
    "jp-MarkdownHeadingCollapsed": true,
    "tags": []
   },
   "source": [
    "### Suspect Woman"
   ]
  },
  {
   "cell_type": "code",
   "execution_count": 139,
   "id": "403ceb27-19b0-4820-8897-362fe24835bc",
   "metadata": {
    "tags": []
   },
   "outputs": [
    {
     "data": {
      "text/html": [
       "<div>\n",
       "<style scoped>\n",
       "    .dataframe tbody tr th:only-of-type {\n",
       "        vertical-align: middle;\n",
       "    }\n",
       "\n",
       "    .dataframe tbody tr th {\n",
       "        vertical-align: top;\n",
       "    }\n",
       "\n",
       "    .dataframe thead th {\n",
       "        text-align: right;\n",
       "    }\n",
       "</style>\n",
       "<table border=\"1\" class=\"dataframe\">\n",
       "  <thead>\n",
       "    <tr style=\"text-align: right;\">\n",
       "      <th></th>\n",
       "      <th>person_id</th>\n",
       "      <th>name</th>\n",
       "      <th>license_id</th>\n",
       "      <th>address_number</th>\n",
       "      <th>address_street_name</th>\n",
       "      <th>ssn</th>\n",
       "      <th>drivers_license_id</th>\n",
       "      <th>age</th>\n",
       "      <th>height</th>\n",
       "      <th>eye_color</th>\n",
       "      <th>hair_color</th>\n",
       "      <th>gender</th>\n",
       "      <th>plate_number</th>\n",
       "      <th>car_model</th>\n",
       "      <th>annual_income</th>\n",
       "      <th>total_visit</th>\n",
       "    </tr>\n",
       "  </thead>\n",
       "  <tbody>\n",
       "    <tr>\n",
       "      <th>0</th>\n",
       "      <td>99716</td>\n",
       "      <td>Miranda Priestly</td>\n",
       "      <td>202298</td>\n",
       "      <td>1883</td>\n",
       "      <td>Golden Ave</td>\n",
       "      <td>987756388</td>\n",
       "      <td>202298</td>\n",
       "      <td>68</td>\n",
       "      <td>66</td>\n",
       "      <td>green</td>\n",
       "      <td>red</td>\n",
       "      <td>female</td>\n",
       "      <td>500123</td>\n",
       "      <td>Model S</td>\n",
       "      <td>310000</td>\n",
       "      <td>3</td>\n",
       "    </tr>\n",
       "  </tbody>\n",
       "</table>\n",
       "</div>"
      ],
      "text/plain": [
       "   person_id              name  license_id  address_number  \\\n",
       "0      99716  Miranda Priestly      202298            1883   \n",
       "\n",
       "  address_street_name        ssn  drivers_license_id  age  height eye_color  \\\n",
       "0          Golden Ave  987756388              202298   68      66     green   \n",
       "\n",
       "  hair_color  gender plate_number car_model  annual_income  total_visit  \n",
       "0        red  female       500123   Model S         310000            3  "
      ]
     },
     "execution_count": 139,
     "metadata": {},
     "output_type": "execute_result"
    }
   ],
   "source": [
    "# Query to find the suspect based on the provided criteria\n",
    "query7 = \"\"\"\n",
    "SELECT \n",
    "    p.id as person_id, \n",
    "    p.name, \n",
    "    p.license_id, \n",
    "    p.address_number, \n",
    "    p.address_street_name, \n",
    "    p.ssn,\n",
    "    d.id as drivers_license_id, \n",
    "    d.age, \n",
    "    d.height, \n",
    "    d.eye_color, \n",
    "    d.hair_color, \n",
    "    d.gender, \n",
    "    d.plate_number,\n",
    "    d.car_model,\n",
    "    inc.annual_income,\n",
    "    COUNT(f.person_id) AS total_visit\n",
    "FROM \n",
    "    facebook_event_checkin AS f\n",
    "JOIN \n",
    "    person p ON f.person_id = p.id\n",
    "JOIN \n",
    "    drivers_license d ON p.license_id = d.id\n",
    "LEFT JOIN \n",
    "    income inc ON p.ssn = inc.ssn\n",
    "WHERE \n",
    "    d.gender = 'female' \n",
    "    AND d.hair_color = 'red' \n",
    "    AND d.car_model = 'Model S'\n",
    "    AND d.height BETWEEN 65 AND 67\n",
    "    AND f.event_name = 'SQL Symphony Concert'\n",
    "    AND f.date LIKE '201712%'\n",
    "GROUP BY \n",
    "    p.id\n",
    "HAVING total_visit = 3;\n",
    "\"\"\"\n",
    "\n",
    "suspect = pd.read_sql_query(query7, conn)\n",
    "suspect"
   ]
  },
  {
   "cell_type": "code",
   "execution_count": 136,
   "id": "7d075a43-5081-4ec8-af81-ab921885bc60",
   "metadata": {
    "tags": []
   },
   "outputs": [
    {
     "data": {
      "text/html": [
       "<div>\n",
       "<style scoped>\n",
       "    .dataframe tbody tr th:only-of-type {\n",
       "        vertical-align: middle;\n",
       "    }\n",
       "\n",
       "    .dataframe tbody tr th {\n",
       "        vertical-align: top;\n",
       "    }\n",
       "\n",
       "    .dataframe thead th {\n",
       "        text-align: right;\n",
       "    }\n",
       "</style>\n",
       "<table border=\"1\" class=\"dataframe\">\n",
       "  <thead>\n",
       "    <tr style=\"text-align: right;\">\n",
       "      <th></th>\n",
       "      <th>person_id</th>\n",
       "      <th>event_id</th>\n",
       "      <th>event_name</th>\n",
       "      <th>date</th>\n",
       "    </tr>\n",
       "  </thead>\n",
       "  <tbody>\n",
       "    <tr>\n",
       "      <th>0</th>\n",
       "      <td>99716</td>\n",
       "      <td>1143</td>\n",
       "      <td>SQL Symphony Concert</td>\n",
       "      <td>20171206</td>\n",
       "    </tr>\n",
       "    <tr>\n",
       "      <th>1</th>\n",
       "      <td>99716</td>\n",
       "      <td>1143</td>\n",
       "      <td>SQL Symphony Concert</td>\n",
       "      <td>20171212</td>\n",
       "    </tr>\n",
       "    <tr>\n",
       "      <th>2</th>\n",
       "      <td>99716</td>\n",
       "      <td>1143</td>\n",
       "      <td>SQL Symphony Concert</td>\n",
       "      <td>20171229</td>\n",
       "    </tr>\n",
       "  </tbody>\n",
       "</table>\n",
       "</div>"
      ],
      "text/plain": [
       "   person_id  event_id            event_name      date\n",
       "0      99716      1143  SQL Symphony Concert  20171206\n",
       "1      99716      1143  SQL Symphony Concert  20171212\n",
       "2      99716      1143  SQL Symphony Concert  20171229"
      ]
     },
     "execution_count": 136,
     "metadata": {},
     "output_type": "execute_result"
    }
   ],
   "source": [
    "# Query to retrieve all Facebook events for the identified suspect\n",
    "query_facebook_events = f\"\"\"\n",
    "SELECT *\n",
    "FROM facebook_event_checkin \n",
    "WHERE person_id = {suspect[\"person_id\"][0]};\n",
    "\"\"\"\n",
    "\n",
    "facebook_events = pd.read_sql_query(query_facebook_events, conn)  \n",
    "facebook_events"
   ]
  },
  {
   "cell_type": "code",
   "execution_count": 138,
   "id": "36f47133-477a-465b-8e2f-10cb78be0c20",
   "metadata": {
    "tags": []
   },
   "outputs": [
    {
     "data": {
      "text/html": [
       "<div>\n",
       "<style scoped>\n",
       "    .dataframe tbody tr th:only-of-type {\n",
       "        vertical-align: middle;\n",
       "    }\n",
       "\n",
       "    .dataframe tbody tr th {\n",
       "        vertical-align: top;\n",
       "    }\n",
       "\n",
       "    .dataframe thead th {\n",
       "        text-align: right;\n",
       "    }\n",
       "</style>\n",
       "<table border=\"1\" class=\"dataframe\">\n",
       "  <thead>\n",
       "    <tr style=\"text-align: right;\">\n",
       "      <th></th>\n",
       "      <th>person_id</th>\n",
       "      <th>transcript</th>\n",
       "    </tr>\n",
       "  </thead>\n",
       "  <tbody>\n",
       "  </tbody>\n",
       "</table>\n",
       "</div>"
      ],
      "text/plain": [
       "Empty DataFrame\n",
       "Columns: [person_id, transcript]\n",
       "Index: []"
      ]
     },
     "execution_count": 138,
     "metadata": {},
     "output_type": "execute_result"
    }
   ],
   "source": [
    "# Query to retrieve the interview transcript for the identified suspect\n",
    "\n",
    "query_interview = f\"\"\"\n",
    "SELECT *\n",
    "FROM interview \n",
    "WHERE person_id = {suspect[\"person_id\"][0]};\n",
    "\"\"\"\n",
    "\n",
    "interview = pd.read_sql_query(query_interview, conn)\n",
    "interview"
   ]
  }
 ],
 "metadata": {
  "kernelspec": {
   "display_name": "Python 3 (ipykernel)",
   "language": "python",
   "name": "python3"
  },
  "language_info": {
   "codemirror_mode": {
    "name": "ipython",
    "version": 3
   },
   "file_extension": ".py",
   "mimetype": "text/x-python",
   "name": "python",
   "nbconvert_exporter": "python",
   "pygments_lexer": "ipython3",
   "version": "3.11.5"
  }
 },
 "nbformat": 4,
 "nbformat_minor": 5
}
